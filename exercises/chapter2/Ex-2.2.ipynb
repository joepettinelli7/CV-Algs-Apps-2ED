{
 "cells": [
  {
   "cell_type": "markdown",
   "id": "3837e931-8b85-4f44-b096-bcfb7a463775",
   "metadata": {},
   "source": [
    "$\\textbf{2D transform editor.}$  Write a program that lets you interactively create a set of rectangles and then modify their \"pose\" (2D transform). You should implement the following steps:\n",
    "\n",
    "1. Open an empty window (\"canvas\").\n",
    "2. Shift drag (rubber-band) to create a new rectangle.\n",
    "3. Select the deformation mode (motion model): translation, rigid, similarity, affine, or perspective.\n",
    "4. Drag any corner of the outline to change its transformation.\n",
    "\n",
    "This exercise should be built on a set of pixel coordinate and transformation classes, either implemented by yourself or from a software library. Persistence of the created representation (save and load) should also be supported (for each rectangle, save its transformation)."
   ]
  },
  {
   "cell_type": "code",
   "execution_count": null,
   "id": "cc351c73-a9d9-422c-b6b6-9c995484480a",
   "metadata": {},
   "outputs": [],
   "source": [
    "%cd /home/ubuntu/CV-Algs-Apps-2ED\n",
    "from src.transforms import *\n",
    "from src.canvas.canvas_handler import CanvasHandler2D"
   ]
  },
  {
   "cell_type": "code",
   "execution_count": 12,
   "id": "1e0dec19-04a9-49d9-b7dc-5f9968f9b1a0",
   "metadata": {},
   "outputs": [
    {
     "data": {
      "application/vnd.jupyter.widget-view+json": {
       "model_id": "58b306f00092432d8fe85fc0a35e37d1",
       "version_major": 2,
       "version_minor": 0
      },
      "text/plain": [
       "VBox(children=(Button(description='Draw mode', layout=Layout(height='30px', width='90px'), style=ButtonStyle()…"
      ]
     },
     "metadata": {},
     "output_type": "display_data"
    },
    {
     "data": {
      "application/vnd.jupyter.widget-view+json": {
       "model_id": "0a6ac560d06d48ab9c826762f0f81f62",
       "version_major": 2,
       "version_minor": 0
      },
      "text/plain": [
       "Canvas(height=200, width=850)"
      ]
     },
     "metadata": {},
     "output_type": "display_data"
    }
   ],
   "source": [
    "my_canvas = CanvasHandler2D()\n",
    "transforms_2d = {\"Translation\": TranslationTransform2D(tx=100, ty=20),\n",
    "                 \"Scale\": ScaleTransform2D(sx=2., sy=2.), \n",
    "                 \"Rotation\": RotationTransform2D(theta=1.57),\n",
    "                 \"Rigid\": RigidTransform2D(theta=0.79, tx=160, ty=20), \n",
    "                 \"Similarity\": SimilarityTransform2D(sx=2.5, sy=2.5, theta=0.5, tx=250, ty=10),\n",
    "                 \"Shear\": ShearTransform2D(theta=0.79),\n",
    "                 \"Affine\": AffineTransform2D(sx=1.0, sy=2.5, shear_theta=0.49, theta=0., tx=425, ty=10),\n",
    "                 \"Perspective\": PerspectiveTransform2D(per_x=0.01, per_y=0.01),\n",
    "                 \"Projective\": ProjectiveTransform2D(per_x=0.0001, per_y=0.001, sx=1.5, sy=1.5,\n",
    "                                                     shear_theta=0., theta=0.0, tx=550, ty=10)\n",
    "                }\n",
    "my_canvas.transforms = transforms_2d\n",
    "my_canvas.setup()"
   ]
  },
  {
   "cell_type": "markdown",
   "id": "6f9b7c7e-e8ac-4606-ac17-0e604aacf4ba",
   "metadata": {},
   "source": [
    "$\\textbf{Instructions}$: When in draw mode, draw a rectangle then click one of the transform buttons\n",
    "then draw another rectangle to calculate the transform matrix that is needed to map the original rectangle\n",
    "to the new rectangle. The first rectangle drawn is always used as the reference, even when many rectangles\n",
    "are drawn. Click the Draw mode button to toggle to Click mode. When in Click mode, select the transform type\n",
    "to display a new rectangle that is the transformed instance of the original rectangle. Logging level should\n",
    "be set to Info to see the output in Draw Mode, while Warning is needed for Click mode. Also, click Save and Load\n",
    "to save and load the transforms and rectangles to the exercises/chapter2 folder in .pkl files."
   ]
  }
 ],
 "metadata": {
  "kernelspec": {
   "display_name": "Python 3 (ipykernel)",
   "language": "python",
   "name": "python3"
  },
  "language_info": {
   "codemirror_mode": {
    "name": "ipython",
    "version": 3
   },
   "file_extension": ".py",
   "mimetype": "text/x-python",
   "name": "python",
   "nbconvert_exporter": "python",
   "pygments_lexer": "ipython3",
   "version": "3.12.3"
  }
 },
 "nbformat": 4,
 "nbformat_minor": 5
}
