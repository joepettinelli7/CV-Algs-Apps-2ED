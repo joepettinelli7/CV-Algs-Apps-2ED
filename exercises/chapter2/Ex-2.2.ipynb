{
 "cells": [
  {
   "cell_type": "markdown",
   "id": "3837e931-8b85-4f44-b096-bcfb7a463775",
   "metadata": {},
   "source": [
    "$\\textbf{2D transform editor.}$  Write a program that lets you interactively create a set of rectangles and then modify their \"pose\" (2D transform). You should implement the following steps:\n",
    "\n",
    "1. Open an empty window (\"canvas\").\n",
    "2. Shift drag (rubber-band) to create a new rectangle.\n",
    "3. Select the deformation mode (motion model): translation, rigid, similarity, affine, or perspective.\n",
    "4. Drag any corner of the outline to change its transformation.\n",
    "\n",
    "This exercise should be built on a set of pixel coordinate and transformation classes, either implemented by yourself or from a software library. Persistence of the created representation (save and load) should also be supported (for each rectangle, save its transformation)."
   ]
  },
  {
   "cell_type": "code",
   "execution_count": 316,
   "id": "f0cf8ed8-b903-4706-959b-718c086ba11a",
   "metadata": {},
   "outputs": [
    {
     "name": "stdout",
     "output_type": "stream",
     "text": [
      "/home/ubuntu/CV-Algs-Apps-2ED\n"
     ]
    }
   ],
   "source": [
    "%cd /home/ubuntu/CV-Algs-Apps-2ED\n",
    "from src.canvas.canvas_handler import CanvasHandler\n",
    "from src.transforms.transform_base import TransformBase2D\n",
    "from src.transforms.translation import TranslationTransform2D\n",
    "from src.transforms.scale import ScaleTransform2D\n",
    "from src.transforms.rotation import RotationTransform2D\n",
    "from src.transforms.rigid import RigidTransform2D\n",
    "from src.transforms.similarity import SimilarityTransform2D\n",
    "from src.transforms.shear import ShearTransform2D\n",
    "from src.transforms.affine import AffineTransform2D\n",
    "from src.transforms.projective import ProjectiveTransform2D"
   ]
  },
  {
   "cell_type": "code",
   "execution_count": 317,
   "id": "afca0e26-a5e2-4767-9130-ec2a1ec690d6",
   "metadata": {},
   "outputs": [
    {
     "data": {
      "application/vnd.jupyter.widget-view+json": {
       "model_id": "0566e1d2014745a5a4617de4903da14b",
       "version_major": 2,
       "version_minor": 0
      },
      "text/plain": [
       "HBox(children=(Button(description='Translation', layout=Layout(height='30px', width='90px'), style=ButtonStyle…"
      ]
     },
     "metadata": {},
     "output_type": "display_data"
    },
    {
     "data": {
      "application/vnd.jupyter.widget-view+json": {
       "model_id": "a60e1c9d5c2d496ca789cd3368c6b6f6",
       "version_major": 2,
       "version_minor": 0
      },
      "text/plain": [
       "Canvas(height=200, width=800)"
      ]
     },
     "metadata": {},
     "output_type": "display_data"
    }
   ],
   "source": [
    "my_canvas = CanvasHandler()\n",
    "transforms_2d = {\"Translation\": TranslationTransform2D(tx=100, ty=20),\n",
    "                 \"Scale\": ScaleTransform2D(sx=2., sy=2.), \n",
    "                 \"Rotation\": RotationTransform2D(theta=1.57),\n",
    "                 \"Rigid\": RigidTransform2D(theta=0.79, tx=160, ty=20), \n",
    "                 \"Similarity\": SimilarityTransform2D(sx=2.5, sy=2.5, theta=0.5, tx=250, ty=10),\n",
    "                 \"Shear\": ShearTransform2D(theta=0.79),\n",
    "                 \"Affine\": AffineTransform2D(sx=1.0, sy=2.5, shear_theta=0.79, theta=0., tx=425, ty=10),\n",
    "                 \"Projective\": ProjectiveTransform2D()\n",
    "                }\n",
    "my_canvas.transforms = transforms_2d\n",
    "my_canvas.setup()"
   ]
  }
 ],
 "metadata": {
  "kernelspec": {
   "display_name": "Python 3 (ipykernel)",
   "language": "python",
   "name": "python3"
  },
  "language_info": {
   "codemirror_mode": {
    "name": "ipython",
    "version": 3
   },
   "file_extension": ".py",
   "mimetype": "text/x-python",
   "name": "python",
   "nbconvert_exporter": "python",
   "pygments_lexer": "ipython3",
   "version": "3.12.3"
  }
 },
 "nbformat": 4,
 "nbformat_minor": 5
}
