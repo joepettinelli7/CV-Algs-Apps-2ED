{
 "cells": [
  {
   "cell_type": "markdown",
   "id": "58b8e2f3-41c5-45a0-b684-5ef305a9db5b",
   "metadata": {},
   "source": [
    "Least squares intersection point and line fitting -- advanced. Equation (2.4) shows how the intersection of two 2D\n",
    "lines can be expressed as their cross product, assuming the lines are expressed as homogenous coordinates.\n",
    "\n",
    "1. If you are given more than two lines and want to find a point $\\tilde{x}$ that minimizes the sum of squared distances to\n",
    "each line, $$\\displaystyle D = \\sum_{i}(\\tilde{x} \\cdot \\tilde{l}_i)^2$$ how can you compute this quantity? (Hint: Write the dot product as\n",
    "$\\tilde{x}^T\\tilde{l}_i$, and turn the squared quantity into a quadratic form, $\\tilde{x}^TA\\tilde{x}$.)"
   ]
  },
  {
   "cell_type": "code",
   "execution_count": 1,
   "id": "4726c224-a43f-449a-aade-1fec1274101b",
   "metadata": {},
   "outputs": [
    {
     "name": "stdout",
     "output_type": "stream",
     "text": [
      "/home/ubuntu/CV-Algs-Apps-2ED\n"
     ]
    }
   ],
   "source": [
    "%cd /home/ubuntu/CV-Algs-Apps-2ED\n",
    "\n",
    "import numpy as np\n",
    "\n",
    "from src.primitives.point import Point2D\n",
    "from src.primitives.line import Line2D"
   ]
  },
  {
   "cell_type": "code",
   "execution_count": 196,
   "id": "f50b119d-ed74-4244-930e-4d01febeb752",
   "metadata": {},
   "outputs": [
    {
     "data": {
      "text/plain": [
       "<module 'src.primitives.point' from '/home/ubuntu/CV-Algs-Apps-2ED/src/primitives/point.py'>"
      ]
     },
     "execution_count": 196,
     "metadata": {},
     "output_type": "execute_result"
    }
   ],
   "source": [
    "import importlib\n",
    "from src.primitives import line, point\n",
    "importlib.reload(line)\n",
    "importlib.reload(point)"
   ]
  },
  {
   "cell_type": "code",
   "execution_count": 199,
   "id": "33bc6cfd-6d39-4577-989b-3ed3e807d8b7",
   "metadata": {},
   "outputs": [
    {
     "name": "stdout",
     "output_type": "stream",
     "text": [
      "p1: Point2D([3. 1. 1.])\n",
      "p2: Point2D([-4.  5.  1.])\n",
      "line1: Line2D([-4. -7. 19.])\n",
      "Line2D([-4. -7. 19.]) contains Point2D([3. 1. 1.]) = True\n",
      "\n",
      "\n",
      "line2: Line2D([ 1. -7.  8.])\n",
      "line3: Line2D([ 3. -4.  1.])\n",
      "inter: Point2D([25. 23. 17.])\n"
     ]
    }
   ],
   "source": [
    "# Test the classes first\n",
    "\n",
    "point1 = Point2D(3.0, 1.0, 1.0)\n",
    "print(f\"p1: {point1}\")\n",
    "point2 = Point2D(-4.0, 5.0, 1.0)\n",
    "print(f\"p2: {point2}\")\n",
    "line1 = Line2D(p1=point1, p2=point2)\n",
    "print(f\"line1: {line1}\")\n",
    "contains = line1.contains_point(point1)\n",
    "print(f\"{line1} contains {point1} = {contains}\")\n",
    "assert contains\n",
    "\n",
    "print(\"\\n\")\n",
    "line2 = Line2D(a=1.0, b=-7.0, c=8.0)\n",
    "print(f\"line2: {line2}\")\n",
    "line3 = Line2D(a=3.0, b=-4.0, c=1.0)\n",
    "print(f\"line3: {line3}\")\n",
    "inter = line2.intersection_with(line3)\n",
    "print(f\"inter: {inter}\")\n",
    "assert inter == Point2D(25.0, 23.0, 17.0)\n"
   ]
  },
  {
   "cell_type": "code",
   "execution_count": 208,
   "id": "deb83697-f88d-49d4-a403-5ee44a007dd5",
   "metadata": {},
   "outputs": [
    {
     "name": "stdout",
     "output_type": "stream",
     "text": [
      "L: [[ 6.  4.  1.]\n",
      " [-3.  2.  1.]\n",
      " [ 4.  7.  1.]]\n",
      "A: [[61. 46.  7.]\n",
      " [46. 69. 13.]\n",
      " [ 7. 13.  3.]]\n",
      "dp_res: 23.0\n",
      "sq_res: 529.0\n",
      "query point distance: 965.0\n",
      "minimum point: [0. 0. 0.]\n"
     ]
    }
   ],
   "source": [
    "\n",
    "query_p = Point2D(3.0, 1.0, 1.0)\n",
    "\n",
    "line1 = Line2D(a=6.0, b=4.0, c=1.0)\n",
    "line2 = Line2D(a=-3.0, b=2.0, c=1.0)\n",
    "line3 = Line2D(a=4.0, b=7.0, c=1.0)\n",
    "\n",
    "def dot_prod(p: Point2D, l: Line2D) -> float:\n",
    "    return np.dot(p.vector.T, l.vector)\n",
    "\n",
    "def squared_quantity(p: Point2D, l: Line2D) -> float:\n",
    "    dp = dot_prod(p, l)\n",
    "    return dp * dp\n",
    "\n",
    "L = np.array([line1.vector, line2.vector, line3.vector])\n",
    "print(f\"L: {L}\")\n",
    "A = np.dot(L.T, L)\n",
    "print(f\"A: {A}\")\n",
    "\n",
    "\n",
    "dp_res = dot_prod(query_p, line1)\n",
    "print(f\"dp_res: {dp_res}\")\n",
    "sq_res = squared_quantity(query_p, line1)\n",
    "print(f\"sq_res: {sq_res}\")\n",
    "\n",
    "def quad_form(p: Point2D, A: np.ndarray):\n",
    "    return np.dot(p.vector.T, np.dot(A, p.vector))\n",
    "\n",
    "answer = quad_form(query_p, A)\n",
    "print(f\"query point distance: {answer}\")\n",
    "\n",
    "\n",
    "# A_pseudo_inv = np.linalg.pinv(A)\n",
    "# # Find point that minimizes distances\n",
    "# minimized_point = np.dot(A_pseudo_inv, np.zeros(3))\n",
    "# print(f\"minimum point: {minimized_point}\")\n",
    "\n",
    "    "
   ]
  },
  {
   "cell_type": "code",
   "execution_count": 4,
   "id": "64e69a53-de99-4aa4-8580-0f5daf50d858",
   "metadata": {},
   "outputs": [
    {
     "name": "stdout",
     "output_type": "stream",
     "text": [
      "(3,)\n",
      "(3,)\n"
     ]
    }
   ],
   "source": [
    "v1 = np.array([1, 2, 3])\n",
    "print(v1.shape)\n",
    "print(v1.T.shape)"
   ]
  },
  {
   "cell_type": "code",
   "execution_count": null,
   "id": "8c0db3ac-008a-4d6f-a01d-ac24d2c6fc9b",
   "metadata": {},
   "outputs": [],
   "source": []
  }
 ],
 "metadata": {
  "kernelspec": {
   "display_name": "Python 3 (ipykernel)",
   "language": "python",
   "name": "python3"
  },
  "language_info": {
   "codemirror_mode": {
    "name": "ipython",
    "version": 3
   },
   "file_extension": ".py",
   "mimetype": "text/x-python",
   "name": "python",
   "nbconvert_exporter": "python",
   "pygments_lexer": "ipython3",
   "version": "3.12.3"
  }
 },
 "nbformat": 4,
 "nbformat_minor": 5
}
